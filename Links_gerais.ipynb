{
  "nbformat": 4,
  "nbformat_minor": 0,
  "metadata": {
    "colab": {
      "provenance": [],
      "authorship_tag": "ABX9TyNKgBRK+TV32gC26R8YqAi7",
      "include_colab_link": true
    },
    "kernelspec": {
      "name": "python3",
      "display_name": "Python 3"
    },
    "language_info": {
      "name": "python"
    }
  },
  "cells": [
    {
      "cell_type": "markdown",
      "metadata": {
        "id": "view-in-github",
        "colab_type": "text"
      },
      "source": [
        "<a href=\"https://colab.research.google.com/github/caroliness13/skills-introduction-to-github/blob/main/Links_gerais.ipynb\" target=\"_parent\"><img src=\"https://colab.research.google.com/assets/colab-badge.svg\" alt=\"Open In Colab\"/></a>"
      ]
    },
    {
      "cell_type": "markdown",
      "source": [],
      "metadata": {
        "id": "M1FQtRZOL4Ww"
      }
    },
    {
      "cell_type": "code",
      "source": [],
      "metadata": {
        "id": "KHnfHyQ6OsEv"
      },
      "execution_count": null,
      "outputs": []
    },
    {
      "cell_type": "markdown",
      "source": [
        "Oiee Maravilhosa!! Como você tá?\n",
        "\n",
        "Bom, você está criando esse Colab com o obejivo de organizar seus materiais e estudos de Python e Bioinfo.\n",
        "Então, o objetivo é deixar ele bem organizado e que você consiga evoluir nos seus estudos.\n",
        "\n",
        "\n",
        "Lembre-se você está fazendo isso primeiro, porque você gosta de estuda, segundo porque você gosta muito da bio e quer novas opções,\n",
        "terceiro porque você quer ganhar mais dinheiro e um trabalho home office.\n",
        "\n",
        "\n",
        "Te desejo Boa sorte e Bons Estudo!\n",
        "\n",
        "\n",
        "Documentação Python\n",
        "\n",
        "https://docs.python.org/pt-br/3.9/contents.html\n",
        "\n",
        "\n",
        "Colab Carol Xavier - Aula 1 Interpretadores\n",
        "\n",
        "https://drive.google.com/file/d/1SEO8g4LI8n9rIcT1it4XwnQnaMaR4b3o/view\n",
        "\n",
        "\n",
        "Dicas:\n",
        "\n",
        "- Estudos projetos\n",
        "https://www.kaggle.com/\n",
        "\n",
        "- Código\n",
        "HackerRank\n",
        "https://www.hackerrank.com/\n",
        "\n",
        "- Pyhton Tutorial\n",
        "https://www.w3schools.com/python/\n",
        "\n",
        "-  Dev Samurai\n",
        "https://class.devsamurai.com.br/\n",
        "\n",
        "- Escola de programadores notion\n",
        "\n",
        "https://escola-de-programadoras.notion.site/cb600e42a27647ecb0c36c0571ea51e0?v=751c97722e234e259f9b5622c72be6f4es\n",
        "\n",
        "\n",
        "Livros:\n",
        "Pyladies\n",
        "\n",
        "https://drive.google.com/drive/folders/1oDObhvre-uLzxbZXYU0Jdrkij5FKvlRw\n",
        "\n",
        "\n",
        "\n",
        "Data Science do Zero\n",
        "\n",
        "https://drive.google.com/file/d/1UmAt6ymJUkLhh18oyOCAuDt313ydzVTx/view?usp=drive_link\n",
        "\n",
        "\n",
        "\n",
        "\n",
        "\n",
        "Notícias:\n",
        "\n",
        "Como começar na Bioinformática?\n",
        "\n",
        "https://bioinfo.com.br/como-comecar-na-bioinformatica/\n",
        "\n",
        "\n",
        "Primeiros passos para a bioinformática — se você é das biológicas\n",
        "\n",
        "https://medium.com/@vanleiko/primeiros-passos-para-a-bioinform%C3%A1tica-se-voc%C3%AA-%C3%A9-das-biol%C3%B3gicas-97859c0a6bb1\n",
        "\n",
        "\n",
        "Como começar na Bioinformática?\n",
        "\n",
        "https://www.blogs.unicamp.br/tb-of-life/2020/07/21/como-comecar-na-bioinformatica/\n",
        "\n",
        "\n",
        "Open Source Society University\n",
        "\n",
        "https://github.com/ossu/bioinformatics\n",
        "\n",
        "\n",
        "Programming Languages For Data Scientists\n",
        "\n",
        "https://towardsdatascience.com/programming-languages-for-data-scientists-afde2eaf5cc5/"
      ],
      "metadata": {
        "id": "PcZ9URqmLypU"
      }
    },
    {
      "cell_type": "markdown",
      "source": [
        "Aula 1: Interpretadores\n",
        "\n",
        "Colab Carol Xavier - Aula 1 Interpretadores\n",
        "\n",
        "https://drive.google.com/file/d/1SEO8g4LI8n9rIcT1it4XwnQnaMaR4b3o/view\n",
        "\n",
        "\n",
        "Como o interpretador do Python funciona? | Live de Python #218\n",
        "\n",
        "https://www.youtube.com/watch?v=pxfZTAJDipY&t=746s\n",
        "\n",
        "Pandas\n",
        "\n",
        "https://pandas.pydata.org/\n",
        "\n",
        "Matplotlib 3.10.1 documentation\n",
        "\n",
        "https://matplotlib.org/stable/\n",
        "\n",
        "Cracking Codes with Python\n",
        "\n",
        "https://inventwithpython.com/cracking/\n",
        "\n",
        "https://drive.google.com/file/d/1SEO8g4LI8n9rIcT1it4XwnQnaMaR4b3o/view"
      ],
      "metadata": {
        "id": "qeGCGT6oKL1A"
      }
    },
    {
      "cell_type": "markdown",
      "source": [
        "\n",
        "\n",
        "```\n",
        "# Isto está formatado como código\n",
        "```\n",
        "\n",
        "# Nova seção"
      ],
      "metadata": {
        "id": "WvxFa-ZIPAaQ"
      }
    },
    {
      "cell_type": "markdown",
      "source": [
        "Aula 1 - Interpretadores"
      ],
      "metadata": {
        "id": "FJH1xpOXPFvt"
      }
    },
    {
      "cell_type": "markdown",
      "source": [
        "Aula 1: Interpretadores\n",
        "\n",
        "Colab Carol Xavier - Aula 1 Interpretadores\n",
        "\n",
        "https://drive.google.com/file/d/1SEO8g4LI8n9rIcT1it4XwnQnaMaR4b3o/view\n",
        "\n",
        "\n",
        "Como o interpretador do Python funciona? | Live de Python #218\n",
        "\n",
        "https://www.youtube.com/watch?v=pxfZTAJDipY&t=746s\n",
        "\n",
        "Pandas\n",
        "\n",
        "https://pandas.pydata.org/\n",
        "\n",
        "Matplotlib 3.10.1 documentation\n",
        "\n",
        "https://matplotlib.org/stable/\n",
        "\n",
        "Cracking Codes with Python\n",
        "\n",
        "https://inventwithpython.com/cracking/\n",
        "\n",
        "https://drive.google.com/file/d/1SEO8g4LI8n9rIcT1it4XwnQnaMaR4b3o/view"
      ],
      "metadata": {
        "id": "YEiimlzrPIAQ"
      }
    }
  ]
}